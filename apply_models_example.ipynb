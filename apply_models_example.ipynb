{
 "cells": [
  {
   "cell_type": "markdown",
   "metadata": {},
   "source": [
    "# Applying the classifiers that can predict the aerobic biodegradability of organic chemicals"
   ]
  },
  {
   "cell_type": "markdown",
   "metadata": {},
   "source": [
    "To run this file you should clone the repository and use use the main_venv. "
   ]
  },
  {
   "cell_type": "code",
   "execution_count": 1,
   "metadata": {},
   "outputs": [],
   "source": [
    "import pandas as pd\n",
    "import pickle\n",
    "import numpy as np\n",
    "\n",
    "from code_files.processing_functions import convert_to_maccs_fingerprints\n",
    "from code_files.processing_functions import bit_vec_to_lst_of_lst\n",
    "from code_files.processing_functions import check_substances_in_ad\n",
    "from code_files.processing_functions import get_datasets_for_ad"
   ]
  },
  {
   "cell_type": "markdown",
   "metadata": {},
   "source": [
    "### Loading the models"
   ]
  },
  {
   "cell_type": "code",
   "execution_count": 2,
   "metadata": {},
   "outputs": [],
   "source": [
    "with open('models/xgbc_df_curated_scs.pkl', 'rb') as model_file:\n",
    "    classifier_scs = pickle.load(model_file)\n",
    "\n",
    "with open('models/xgbc_df_curated_biowin.pkl', 'rb') as model_file:\n",
    "    classifier_biowin = pickle.load(model_file)\n",
    "\n",
    "with open('models/xgbc_df_curated_final.pkl', 'rb') as model_file:\n",
    "    classifier_final = pickle.load(model_file)\n",
    "\n",
    "classifiers = [classifier_scs, classifier_biowin, classifier_final]\n",
    "classifier_names = [\"scs\", \"biowin\", \"final\"]\n"
   ]
  },
  {
   "cell_type": "markdown",
   "metadata": {},
   "source": [
    "### Input data\n",
    "\n",
    "To run the model on new data, you should create an excel file in the following format. The first column should be some kind of identifier of the substances, the second column should contain the SMILES. The SMILES column has to be called \"smiles\". Make sure that you have added the correct SMILES for each subastance and that for all ionizable substances you have ideally added the SMILES of the substance’s dominant species at pH 7.4 and 298 K."
   ]
  },
  {
   "cell_type": "code",
   "execution_count": 3,
   "metadata": {},
   "outputs": [],
   "source": [
    "file_name = \"substance_file\" # Change this to the name of your excel file\n",
    "df_substances = pd.read_excel(f\"{file_name}.xlsx\") \n",
    "\n",
    "df = convert_to_maccs_fingerprints(df_substances)\n",
    "x_class = bit_vec_to_lst_of_lst(df, False)\n",
    "x = np.array(x_class, dtype=object)"
   ]
  },
  {
   "cell_type": "markdown",
   "metadata": {},
   "source": [
    "### Predicting the ready biodegradability\n",
    "\n",
    "Meaning of the labels:\n",
    "- 0: Not readily biodegradable (NRB)\n",
    "- 1: Readily biodegradable (RB)"
   ]
  },
  {
   "cell_type": "code",
   "execution_count": 4,
   "metadata": {},
   "outputs": [
    {
     "data": {
      "text/html": [
       "<div>\n",
       "<style scoped>\n",
       "    .dataframe tbody tr th:only-of-type {\n",
       "        vertical-align: middle;\n",
       "    }\n",
       "\n",
       "    .dataframe tbody tr th {\n",
       "        vertical-align: top;\n",
       "    }\n",
       "\n",
       "    .dataframe thead th {\n",
       "        text-align: right;\n",
       "    }\n",
       "</style>\n",
       "<table border=\"1\" class=\"dataframe\">\n",
       "  <thead>\n",
       "    <tr style=\"text-align: right;\">\n",
       "      <th></th>\n",
       "      <th>CAS</th>\n",
       "      <th>smiles</th>\n",
       "      <th>prediction_scs</th>\n",
       "      <th>prediction_biowin</th>\n",
       "      <th>prediction_final</th>\n",
       "    </tr>\n",
       "  </thead>\n",
       "  <tbody>\n",
       "    <tr>\n",
       "      <th>0</th>\n",
       "      <td>6372-81-2</td>\n",
       "      <td>[O-]C(=O)C1=CC=CC=C1NN=C1C(=O)C=CC2=CC=CC=C12</td>\n",
       "      <td>0</td>\n",
       "      <td>0</td>\n",
       "      <td>0</td>\n",
       "    </tr>\n",
       "    <tr>\n",
       "      <th>1</th>\n",
       "      <td>93940-93-3</td>\n",
       "      <td>CN(CCO)CC([O-])=O</td>\n",
       "      <td>1</td>\n",
       "      <td>1</td>\n",
       "      <td>1</td>\n",
       "    </tr>\n",
       "    <tr>\n",
       "      <th>2</th>\n",
       "      <td>178452-71-6</td>\n",
       "      <td>CCCCN1C(=O)C(=NNC2=CC=C(C=C2)S(=O)(=O)NC2=CC3=...</td>\n",
       "      <td>0</td>\n",
       "      <td>0</td>\n",
       "      <td>0</td>\n",
       "    </tr>\n",
       "    <tr>\n",
       "      <th>3</th>\n",
       "      <td>75214-69-6</td>\n",
       "      <td>CN(C)S(=O)(=O)C1=CC(O)=C([N-]N=C2C(C)=NN(C2=O)...</td>\n",
       "      <td>0</td>\n",
       "      <td>0</td>\n",
       "      <td>0</td>\n",
       "    </tr>\n",
       "    <tr>\n",
       "      <th>4</th>\n",
       "      <td>102-54-5</td>\n",
       "      <td>[CH-]1C=CC=C1.[CH-]1C=CC=C1.[Fe+2]</td>\n",
       "      <td>1</td>\n",
       "      <td>1</td>\n",
       "      <td>1</td>\n",
       "    </tr>\n",
       "  </tbody>\n",
       "</table>\n",
       "</div>"
      ],
      "text/plain": [
       "           CAS                                             smiles  \\\n",
       "0    6372-81-2      [O-]C(=O)C1=CC=CC=C1NN=C1C(=O)C=CC2=CC=CC=C12   \n",
       "1   93940-93-3                                  CN(CCO)CC([O-])=O   \n",
       "2  178452-71-6  CCCCN1C(=O)C(=NNC2=CC=C(C=C2)S(=O)(=O)NC2=CC3=...   \n",
       "3   75214-69-6  CN(C)S(=O)(=O)C1=CC(O)=C([N-]N=C2C(C)=NN(C2=O)...   \n",
       "4     102-54-5                 [CH-]1C=CC=C1.[CH-]1C=CC=C1.[Fe+2]   \n",
       "\n",
       "   prediction_scs  prediction_biowin  prediction_final  \n",
       "0               0                  0                 0  \n",
       "1               1                  1                 1  \n",
       "2               0                  0                 0  \n",
       "3               0                  0                 0  \n",
       "4               1                  1                 1  "
      ]
     },
     "execution_count": 4,
     "metadata": {},
     "output_type": "execute_result"
    }
   ],
   "source": [
    "for classifier, name in zip(classifiers, classifier_names):\n",
    "    df_substances[f\"prediction_{name}\"] = classifier.predict(x)\n",
    "df_substances.to_excel(f\"{file_name}_predicted.xlsx\")\n",
    "\n",
    "df_substances.head()"
   ]
  },
  {
   "cell_type": "markdown",
   "metadata": {},
   "source": [
    "### Check if substances are in the AD\n",
    "\n",
    "Meaning of the labels:\n",
    "- 0: Not in AD\n",
    "- 1: in AD"
   ]
  },
  {
   "cell_type": "code",
   "execution_count": 5,
   "metadata": {},
   "outputs": [
    {
     "data": {
      "application/vnd.jupyter.widget-view+json": {
       "model_id": "3b32a5d323334d4aa16b450b247bbd33",
       "version_major": 2,
       "version_minor": 0
      },
      "text/plain": [
       "  0%|          | 0/5 [00:00<?, ?it/s]"
      ]
     },
     "metadata": {},
     "output_type": "display_data"
    },
    {
     "data": {
      "application/vnd.jupyter.widget-view+json": {
       "model_id": "d0d83317c6d54c90b628675951d5457c",
       "version_major": 2,
       "version_minor": 0
      },
      "text/plain": [
       "  0%|          | 0/5 [00:00<?, ?it/s]"
      ]
     },
     "metadata": {},
     "output_type": "display_data"
    },
    {
     "data": {
      "application/vnd.jupyter.widget-view+json": {
       "model_id": "ba23f34c02e34759941851eee8dc196f",
       "version_major": 2,
       "version_minor": 0
      },
      "text/plain": [
       "  0%|          | 0/5 [00:00<?, ?it/s]"
      ]
     },
     "metadata": {},
     "output_type": "display_data"
    },
    {
     "data": {
      "text/html": [
       "<div>\n",
       "<style scoped>\n",
       "    .dataframe tbody tr th:only-of-type {\n",
       "        vertical-align: middle;\n",
       "    }\n",
       "\n",
       "    .dataframe tbody tr th {\n",
       "        vertical-align: top;\n",
       "    }\n",
       "\n",
       "    .dataframe thead th {\n",
       "        text-align: right;\n",
       "    }\n",
       "</style>\n",
       "<table border=\"1\" class=\"dataframe\">\n",
       "  <thead>\n",
       "    <tr style=\"text-align: right;\">\n",
       "      <th></th>\n",
       "      <th>CAS</th>\n",
       "      <th>smiles</th>\n",
       "      <th>prediction_scs</th>\n",
       "      <th>prediction_biowin</th>\n",
       "      <th>prediction_final</th>\n",
       "      <th>in_ad_of_scs</th>\n",
       "      <th>in_ad_of_biowin</th>\n",
       "      <th>in_ad_of_final</th>\n",
       "    </tr>\n",
       "  </thead>\n",
       "  <tbody>\n",
       "    <tr>\n",
       "      <th>0</th>\n",
       "      <td>6372-81-2</td>\n",
       "      <td>[O-]C(=O)C1=CC=CC=C1NN=C1C(=O)C=CC2=CC=CC=C12</td>\n",
       "      <td>0</td>\n",
       "      <td>0</td>\n",
       "      <td>0</td>\n",
       "      <td>1</td>\n",
       "      <td>1</td>\n",
       "      <td>1</td>\n",
       "    </tr>\n",
       "    <tr>\n",
       "      <th>1</th>\n",
       "      <td>93940-93-3</td>\n",
       "      <td>CN(CCO)CC([O-])=O</td>\n",
       "      <td>1</td>\n",
       "      <td>1</td>\n",
       "      <td>1</td>\n",
       "      <td>1</td>\n",
       "      <td>1</td>\n",
       "      <td>1</td>\n",
       "    </tr>\n",
       "    <tr>\n",
       "      <th>2</th>\n",
       "      <td>178452-71-6</td>\n",
       "      <td>CCCCN1C(=O)C(=NNC2=CC=C(C=C2)S(=O)(=O)NC2=CC3=...</td>\n",
       "      <td>0</td>\n",
       "      <td>0</td>\n",
       "      <td>0</td>\n",
       "      <td>1</td>\n",
       "      <td>1</td>\n",
       "      <td>1</td>\n",
       "    </tr>\n",
       "    <tr>\n",
       "      <th>3</th>\n",
       "      <td>75214-69-6</td>\n",
       "      <td>CN(C)S(=O)(=O)C1=CC(O)=C([N-]N=C2C(C)=NN(C2=O)...</td>\n",
       "      <td>0</td>\n",
       "      <td>0</td>\n",
       "      <td>0</td>\n",
       "      <td>1</td>\n",
       "      <td>1</td>\n",
       "      <td>1</td>\n",
       "    </tr>\n",
       "    <tr>\n",
       "      <th>4</th>\n",
       "      <td>102-54-5</td>\n",
       "      <td>[CH-]1C=CC=C1.[CH-]1C=CC=C1.[Fe+2]</td>\n",
       "      <td>1</td>\n",
       "      <td>1</td>\n",
       "      <td>1</td>\n",
       "      <td>0</td>\n",
       "      <td>0</td>\n",
       "      <td>0</td>\n",
       "    </tr>\n",
       "  </tbody>\n",
       "</table>\n",
       "</div>"
      ],
      "text/plain": [
       "           CAS                                             smiles  \\\n",
       "0    6372-81-2      [O-]C(=O)C1=CC=CC=C1NN=C1C(=O)C=CC2=CC=CC=C12   \n",
       "1   93940-93-3                                  CN(CCO)CC([O-])=O   \n",
       "2  178452-71-6  CCCCN1C(=O)C(=NNC2=CC=C(C=C2)S(=O)(=O)NC2=CC3=...   \n",
       "3   75214-69-6  CN(C)S(=O)(=O)C1=CC(O)=C([N-]N=C2C(C)=NN(C2=O)...   \n",
       "4     102-54-5                 [CH-]1C=CC=C1.[CH-]1C=CC=C1.[Fe+2]   \n",
       "\n",
       "   prediction_scs  prediction_biowin  prediction_final  in_ad_of_scs  \\\n",
       "0               0                  0                 0             1   \n",
       "1               1                  1                 1             1   \n",
       "2               0                  0                 0             1   \n",
       "3               0                  0                 0             1   \n",
       "4               1                  1                 1             0   \n",
       "\n",
       "   in_ad_of_biowin  in_ad_of_final  \n",
       "0                1               1  \n",
       "1                1               1  \n",
       "2                1               1  \n",
       "3                1               1  \n",
       "4                0               0  "
      ]
     },
     "execution_count": 5,
     "metadata": {},
     "output_type": "execute_result"
    }
   ],
   "source": [
    "df_curated_scs, df_curated_biowin, df_curated_final = get_datasets_for_ad()\n",
    "for name, df in zip([\"scs\", \"biowin\", \"final\"], [df_curated_scs, df_curated_biowin, df_curated_final]):\n",
    "    df_substances = check_substances_in_ad(df_train=df, df_train_name=name, df_test=df_substances)\n",
    "df_substances.head()"
   ]
  }
 ],
 "metadata": {
  "kernelspec": {
   "display_name": "biodeg_venv",
   "language": "python",
   "name": "python3"
  },
  "language_info": {
   "codemirror_mode": {
    "name": "ipython",
    "version": 3
   },
   "file_extension": ".py",
   "mimetype": "text/x-python",
   "name": "python",
   "nbconvert_exporter": "python",
   "pygments_lexer": "ipython3",
   "version": "3.11.4"
  }
 },
 "nbformat": 4,
 "nbformat_minor": 2
}
